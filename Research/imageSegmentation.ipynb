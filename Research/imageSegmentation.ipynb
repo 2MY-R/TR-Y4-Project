{
 "cells": [
  {
   "cell_type": "code",
   "id": "550660dee21b5ff6",
   "metadata": {
    "collapsed": true,
    "ExecuteTime": {
     "end_time": "2024-11-07T18:42:45.743614Z",
     "start_time": "2024-11-07T18:42:44.834814Z"
    }
   },
   "source": "# pip install 'git+https://github.com/facebookresearch/detectron2.git' intstall in console alongside visual studio build tool c++ to run detectron2 wihtin env",
   "outputs": [
    {
     "name": "stderr",
     "output_type": "stream",
     "text": [
      "ERROR: Invalid requirement: \"'git+https://github.com/facebookresearch/detectron2.git'\": Expected package name at the start of dependency specifier\n",
      "    'git+https://github.com/facebookresearch/detectron2.git'\n",
      "    ^\n"
     ]
    }
   ],
   "execution_count": 1
  },
  {
   "metadata": {
    "ExecuteTime": {
     "end_time": "2024-11-07T21:02:41.510650Z",
     "start_time": "2024-11-07T21:02:37.781715Z"
    }
   },
   "cell_type": "code",
   "source": [
    "\n",
    "import detectron2\n",
    "from detectron2.utils.logger import setup_logger\n",
    "\n",
    "setup_logger()\n",
    "\n",
    "# import some common detectron2 utilities\n",
    "from detectron2 import model_zoo\n",
    "from detectron2.engine import DefaultPredictor\n",
    "from detectron2.config import get_cfg\n",
    "from detectron2.utils.visualizer import Visualizer\n",
    "from detectron2.data import MetadataCatalog, DatasetCatalog\n",
    "\n",
    "%matplotlib inline\n",
    "\n",
    "# import some common libraries\n",
    "import torch\n",
    "import numpy as np\n",
    "import cv2\n",
    "from pathlib import Path\n",
    "import shutil\n",
    "from PIL import Image\n",
    "from tqdm import tqdm\n",
    "from matplotlib import image as mpimg\n",
    "import matplotlib.pyplot as plt\n",
    "import os\n",
    "from IPython.display import clear_output\n",
    "import time"
   ],
   "id": "initial_id",
   "outputs": [],
   "execution_count": 2
  },
  {
   "metadata": {
    "ExecuteTime": {
     "end_time": "2024-11-07T21:02:41.526147Z",
     "start_time": "2024-11-07T21:02:41.513163Z"
    }
   },
   "cell_type": "code",
   "source": "%matplotlib inline",
   "id": "f8a392d5da1d9ad9",
   "outputs": [],
   "execution_count": 3
  },
  {
   "metadata": {
    "ExecuteTime": {
     "end_time": "2024-11-07T21:02:41.542264Z",
     "start_time": "2024-11-07T21:02:41.528275Z"
    }
   },
   "cell_type": "code",
   "source": [
    "def segment_detectron2(data, ndata, cfg, mode):\n",
    "    if ndata == 0:\n",
    "        ndata = data.shape[0]\n",
    "    D = []\n",
    "    predictor = DefaultPredictor(cfg)\n",
    "    SE = cv2.getStructuringElement(cv2.MORPH_ELLIPSE, (7, 7))\n",
    "\n",
    "    t = time.time()\n",
    "    for i in range(ndata):\n",
    "        new_im = data[i]\n",
    "        outputs = predictor(new_im)\n",
    "        category = outputs[\"instances\"].pred_classes\n",
    "        mask = outputs[\"instances\"].pred_masks.to(\"cpu\").numpy().astype(bool)\n",
    "        Z = np.zeros((mask.shape[1], mask.shape[2]), dtype=\"uint8\")\n",
    "        for idx in range(mask.shape[0]):\n",
    "            if (mask[idx].sum() < 2000) or (mode == 'phase'):\n",
    "                msk = (np.uint8(category[idx].cpu()) + 1) * mask[idx]\n",
    "                if mode == 'phase':\n",
    "                    msk = cv2.erode(msk.astype('float32'), SE, iterations=1)\n",
    "                Z = Z * (~(msk > 0)) + msk\n",
    "        D.append(Z)\n",
    "        elapsed = time.time() - t\n",
    "        print('Time required for processing all data: ', elapsed)\n",
    "        clear_output(wait=True)\n",
    "        print('frame ', i + 1, '/', ndata)\n",
    "    D = np.array(D)\n",
    "    print('Completed')\n",
    "    return D"
   ],
   "id": "a93c029077d96f41",
   "outputs": [],
   "execution_count": 4
  },
  {
   "metadata": {
    "ExecuteTime": {
     "end_time": "2024-11-07T21:03:46.706076Z",
     "start_time": "2024-11-07T21:03:46.669679Z"
    }
   },
   "cell_type": "code",
   "source": [
    "# input parameters\n",
    "imsize = 768  # 768, 1024\n",
    "image_format = 'png'  # e.g .png, .svg, etc.\n",
    "img_dpi = 1200\n",
    "\n",
    "source3 = r\"PHASE\"\n",
    "\n",
    "#num_images = 63\n",
    "sorted_list_dataset = os.listdir(source3)\n",
    "sorted_list_dataset.sort(key=lambda f: int(''.join(filter(str.isdigit, f))))\n",
    "\n",
    "print(sorted_list_dataset)\n",
    "\n",
    "Dataset = []\n",
    "for idx in tqdm(sorted_list_dataset):\n",
    "    filepath = os.path.join(source3, idx)\n",
    "    if filepath.endswith(('.', image_format)):\n",
    "        file = mpimg.imread(filepath)\n",
    "        file = cv2.resize(file, (imsize, imsize))\n",
    "        Dataset.append(file)\n",
    "        \n",
    "print(Dataset)\n",
    "Dataset = np.array(Dataset)\n",
    "Dataset = ((Dataset - Dataset.min()) / Dataset.max()) * 255\n",
    "Dataset = np.uint8(Dataset)\n",
    "\n",
    "print('training set shape', Dataset.shape)\n",
    "\n",
    "print('training set max', Dataset.max())\n",
    "\n",
    "img = Dataset[0]\n",
    "plt.imshow(img)\n",
    "plt.show()"
   ],
   "id": "9163985f6f5a0272",
   "outputs": [
    {
     "ename": "NameError",
     "evalue": "name 'os' is not defined",
     "output_type": "error",
     "traceback": [
      "\u001B[1;31m---------------------------------------------------------------------------\u001B[0m",
      "\u001B[1;31mNameError\u001B[0m                                 Traceback (most recent call last)",
      "Cell \u001B[1;32mIn[1], line 9\u001B[0m\n\u001B[0;32m      6\u001B[0m source3 \u001B[38;5;241m=\u001B[39m \u001B[38;5;124mr\u001B[39m\u001B[38;5;124m\"\u001B[39m\u001B[38;5;124mPHASE\u001B[39m\u001B[38;5;124m\"\u001B[39m\n\u001B[0;32m      8\u001B[0m \u001B[38;5;66;03m#num_images = 63\u001B[39;00m\n\u001B[1;32m----> 9\u001B[0m sorted_list_dataset \u001B[38;5;241m=\u001B[39m \u001B[43mos\u001B[49m\u001B[38;5;241m.\u001B[39mlistdir(source3)\n\u001B[0;32m     10\u001B[0m sorted_list_dataset\u001B[38;5;241m.\u001B[39msort(key\u001B[38;5;241m=\u001B[39m\u001B[38;5;28;01mlambda\u001B[39;00m f: \u001B[38;5;28mint\u001B[39m(\u001B[38;5;124m'\u001B[39m\u001B[38;5;124m'\u001B[39m\u001B[38;5;241m.\u001B[39mjoin(\u001B[38;5;28mfilter\u001B[39m(\u001B[38;5;28mstr\u001B[39m\u001B[38;5;241m.\u001B[39misdigit, f))))\n\u001B[0;32m     12\u001B[0m \u001B[38;5;28mprint\u001B[39m(sorted_list_dataset)\n",
      "\u001B[1;31mNameError\u001B[0m: name 'os' is not defined"
     ]
    }
   ],
   "execution_count": 1
  },
  {
   "metadata": {},
   "cell_type": "code",
   "outputs": [],
   "execution_count": null,
   "source": "",
   "id": "9edc9123c54351b1"
  }
 ],
 "metadata": {
  "kernelspec": {
   "display_name": "Python 3",
   "language": "python",
   "name": "python3"
  },
  "language_info": {
   "codemirror_mode": {
    "name": "ipython",
    "version": 2
   },
   "file_extension": ".py",
   "mimetype": "text/x-python",
   "name": "python",
   "nbconvert_exporter": "python",
   "pygments_lexer": "ipython2",
   "version": "2.7.6"
  }
 },
 "nbformat": 4,
 "nbformat_minor": 5
}
