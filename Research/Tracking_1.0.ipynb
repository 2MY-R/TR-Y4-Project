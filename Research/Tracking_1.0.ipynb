{
 "cells": [
  {
   "cell_type": "code",
   "execution_count": 8,
   "metadata": {
    "executionInfo": {
     "elapsed": 375,
     "status": "ok",
     "timestamp": 1719931977526,
     "user": {
      "displayName": "Toumai Rouse",
      "userId": "03336959233509378970"
     },
     "user_tz": -60
    },
    "id": "1tyf7fplVIlG"
   },
   "outputs": [],
   "source": [
    "import sys\n",
    "#sys.path.append(r' working directory') # This path must contain this file, mask_funcs.py and utils.py"
   ]
  },
  {
   "cell_type": "code",
   "execution_count": 19,
   "metadata": {
    "ExecuteTime": {
     "end_time": "2025-02-17T12:25:19.044820Z",
     "start_time": "2025-02-17T12:25:19.025833Z"
    },
    "executionInfo": {
     "elapsed": 6484,
     "status": "ok",
     "timestamp": 1719931986152,
     "user": {
      "displayName": "Toumai Rouse",
      "userId": "03336959233509378970"
     },
     "user_tz": -60
    },
    "id": "CIZI8tIJtE_y"
   },
   "outputs": [],
   "source": [
    "import numpy as np\n",
    "import os\n",
    "from pathlib import Path\n",
    "import matplotlib.pyplot as plt\n",
    "import sys\n",
    "import torch\n",
    "import cv2\n",
    "from natsort import natsorted\n",
    "import mask_funcs\n",
    "import utils\n",
    "import shutil\n",
    "\n",
    "device = torch.device(\"cuda\" if torch.cuda.is_available() else \"cpu\")"
   ]
  },
  {
   "cell_type": "code",
   "execution_count": 35,
   "metadata": {
    "ExecuteTime": {
     "end_time": "2025-02-17T14:17:27.807975Z",
     "start_time": "2025-02-17T14:17:27.790807Z"
    },
    "executionInfo": {
     "elapsed": 310,
     "status": "ok",
     "timestamp": 1719932266231,
     "user": {
      "displayName": "Toumai Rouse",
      "userId": "03336959233509378970"
     },
     "user_tz": -60
    },
    "id": "XFXk1WrbvUoU"
   },
   "outputs": [],
   "source": [
    "class MissingCell:\n",
    "    def __init__(self, mask):\n",
    "        self.mask = mask\n",
    "        self.missing_count = 0\n",
    "\n",
    "class Tracker:\n",
    "    def __init__(self, name, mask_directory, tracked_directory, frame_memory = 3, overlap_threshold = 0.4):\n",
    "        self.name = name\n",
    "        self.mask_ims = natsorted([mask for mask in (mask_directory).iterdir()])\n",
    "       # self.images = natsorted([image for image in (image_directory).iterdir()])\n",
    "        self.tracked_directory = tracked_directory\n",
    "       # self.view_tracks_directory = view_tracks_directory\n",
    "        print(self.mask_ims[0],self.mask_ims[1])\n",
    "        print()\n",
    "        self.old_frame = torch.tensor(utils.read_tiff(self.mask_ims[0]).astype(np.int16)).to(device)\n",
    "        self.new_frame = torch.tensor(utils.read_tiff(self.mask_ims[1]).astype(np.int16)).to(device)\n",
    "        self.max_index = torch.max(self.old_frame)\n",
    "        self.missing_cells = {} # key is cell index, value is instance of MissingCell class\n",
    "        self.frame_memory = frame_memory\n",
    "        self.overlap_threshold = overlap_threshold\n",
    "\n",
    "    def add_missing_masks(self):\n",
    "        for missing_index in self.missing_cells.keys():\n",
    "            if missing_index not in self.old_frame:\n",
    "                self.old_frame = torch.where(self.missing_cells[missing_index].mask.bool(), missing_index, self.old_frame)\n",
    "\n",
    "    def update_new_frame(self):\n",
    "        updated_new_frame = torch.zeros((2048, 2048)).to(device)\n",
    "        self.add_missing_masks()\n",
    "        for new_mask, mask_index in mask_funcs.SplitMask(self.new_frame):\n",
    "            intersection = torch.logical_and(new_mask, self.old_frame != 0)\n",
    "            indexes, counts = torch.unique(self.old_frame[intersection], return_counts=True)\n",
    "            if len(indexes) > 0 and torch.max(counts) > self.overlap_threshold*torch.sum(new_mask):\n",
    "                new_index = indexes[torch.argmax(counts)]\n",
    "                self.old_frame = torch.where(self.old_frame==indexes[torch.argmax(counts)], 0, self.old_frame)\n",
    "                if new_index in self.missing_cells:\n",
    "                    del self.missing_cells[new_index]\n",
    "            else:\n",
    "                new_index = self.max_index + 1\n",
    "                self.max_index = new_index\n",
    "            #print((new_mask*int(new_index)).shape)\n",
    "            updated_new_frame += new_mask*int(new_index)\n",
    "\n",
    "        for missing_index in list(self.missing_cells.keys()):\n",
    "            self.missing_cells[missing_index].missing_count += 1\n",
    "            if self.missing_cells[missing_index].missing_count >= self.frame_memory:\n",
    "                if missing_index in self.old_frame:\n",
    "                    self.old_frame = torch.where(self.old_frame==missing_index, 0, self.old_frame)\n",
    "                del self.missing_cells[missing_index]\n",
    "\n",
    "        for missing_mask, missing_index in mask_funcs.SplitMask(self.old_frame):\n",
    "            if missing_index not in self.missing_cells.keys():\n",
    "                self.missing_cells[missing_index] = MissingCell(missing_mask)\n",
    "        self.new_frame = updated_new_frame\n",
    "\n",
    "    def track(self):\n",
    "        print('\\n--------------------\\nTRACKING - ', self.name, '\\n--------------------')\n",
    "\n",
    "        utils.save_tiff(self.old_frame.to(dtype=torch.int16).cpu().numpy().astype(np.uint16),\n",
    "                        self.tracked_directory / (\"{0:04}\".format(0) + '.tif'))\n",
    "\n",
    "        for i in range(1, len(self.mask_ims)):\n",
    "            sys.stdout.write(\n",
    "                f'\\rAdding frame {i+1} / {len(self.mask_ims)}')\n",
    "            sys.stdout.flush()\n",
    "\n",
    "            self.new_frame = torch.tensor(utils.read_tiff(self.mask_ims[i]).astype(np.int16)).to(device)\n",
    "            self.update_new_frame()\n",
    "            self.old_frame = self.new_frame\n",
    "            utils.save_tiff(self.old_frame.to(dtype=torch.int16).cpu().numpy().astype(np.uint16), self.tracked_directory / (\"{0:04}\".format(i) + '.tif'))\n",
    "\n",
    "    def show_tracks(self, num_frames=None):\n",
    "        print('\\n--------------------\\nSHOWING TRACKS - ', self.name, '\\n--------------------')\n",
    "        self.tracked_masks = sorted([mask for mask in (self.tracked_directory).iterdir()])\n",
    "        colour_dict = {}\n",
    "        if num_frames is None:\n",
    "            num_frames = len(self.tracked_masks)\n",
    "        for i in range(num_frames):\n",
    "            sys.stdout.write(\n",
    "                f'\\rAdding frame {i + 1} / {num_frames}')\n",
    "            sys.stdout.flush()\n",
    "            temp = utils.read_tiff(self.images[i]).astype(np.int16)\n",
    "            mask = torch.tensor(utils.read_tiff(self.tracked_masks[i]).astype(np.uint8)).to(device)\n",
    "            #im_rgb = torch.tensor(utils.read_tiff(self.images[i]).astype(np.int16)).to(device)\n",
    "            im_rgb = torch.tensor(temp).to(device)\n",
    "            print(temp)\n",
    "            print(im_rgb.shape)\n",
    "            # im_rgb = im_rgb.permute(2, 0, 1)\n",
    "            # \n",
    "            # for j in range(torch.max(mask)):\n",
    "            #     if j+1 in mask:\n",
    "            #         if j+1 not in colour_dict.keys():\n",
    "            #             colour_dict[j+1] = torch.tensor(np.random.uniform(0, 2**(8)-1, size=3)).to(device)\n",
    "            #         single_mask = torch.where(mask==j+1, 1, 0)\n",
    "            #         outline = mask_funcs.mask_outline(single_mask, 3)\n",
    "            #         for c in range(3):\n",
    "            #             im_rgb[c] = torch.where(outline, colour_dict[j+1][c], im_rgb[c])\n",
    "            # im_rgb = im_rgb.permute(1, 2, 0)\n",
    "            utils.save_tiff((im_rgb).cpu().numpy().astype(np.uint8), self.view_tracks_directory / (\"{0:04}\".format(i) + '.jpg'))\n"
   ]
  },
  {
   "cell_type": "code",
   "execution_count": 38,
   "metadata": {
    "ExecuteTime": {
     "end_time": "2025-02-17T14:19:38.095698Z",
     "start_time": "2025-02-17T14:17:28.938330Z"
    },
    "colab": {
     "base_uri": "https://localhost:8080/",
     "height": 962
    },
    "executionInfo": {
     "elapsed": 150610,
     "status": "ok",
     "timestamp": 1719932419724,
     "user": {
      "displayName": "Toumai Rouse",
      "userId": "03336959233509378970"
     },
     "user_tz": -60
    },
    "id": "O_OykaFNvvRW",
    "outputId": "235ff574-04df-4dc1-f8e7-e208c7867377"
   },
   "outputs": [
    {
     "name": "stdout",
     "output_type": "stream",
     "text": [
      "F:\\Work\\UNI\\ResProj\\TR-Y4-Project\\Research\\SavedSegs\\LabData_NoYeast\\Masks\\tiffPhaseSegs_NoYeast_0\\amoeba F:\\Work\\UNI\\ResProj\\TR-Y4-Project\\Research\\SavedSegs\\LabData_NoYeast\\Tracker_Output\\Tracks_0\n",
      "F:\\Work\\UNI\\ResProj\\TR-Y4-Project\\Research\\SavedSegs\\LabData_NoYeast\\Masks\\tiffPhaseSegs_NoYeast_0\\amoeba\\phase_0_amoeba.tif F:\\Work\\UNI\\ResProj\\TR-Y4-Project\\Research\\SavedSegs\\LabData_NoYeast\\Masks\\tiffPhaseSegs_NoYeast_0\\amoeba\\phase_1_amoeba.tif\n",
      "\n",
      "\n",
      "--------------------\n",
      "TRACKING -  Amoebas \n",
      "--------------------\n",
      "Adding frame 255 / 255F:\\Work\\UNI\\ResProj\\TR-Y4-Project\\Research\\SavedSegs\\LabData_NoYeast\\Masks\\tiffPhaseSegs_NoYeast_1\\amoeba F:\\Work\\UNI\\ResProj\\TR-Y4-Project\\Research\\SavedSegs\\LabData_NoYeast\\Tracker_Output\\Tracks_1\n",
      "F:\\Work\\UNI\\ResProj\\TR-Y4-Project\\Research\\SavedSegs\\LabData_NoYeast\\Masks\\tiffPhaseSegs_NoYeast_1\\amoeba\\phase_0_amoeba.tif F:\\Work\\UNI\\ResProj\\TR-Y4-Project\\Research\\SavedSegs\\LabData_NoYeast\\Masks\\tiffPhaseSegs_NoYeast_1\\amoeba\\phase_1_amoeba.tif\n",
      "\n",
      "\n",
      "--------------------\n",
      "TRACKING -  Amoebas \n",
      "--------------------\n",
      "Adding frame 255 / 255F:\\Work\\UNI\\ResProj\\TR-Y4-Project\\Research\\SavedSegs\\LabData_NoYeast\\Masks\\tiffPhaseSegs_NoYeast_2\\amoeba F:\\Work\\UNI\\ResProj\\TR-Y4-Project\\Research\\SavedSegs\\LabData_NoYeast\\Tracker_Output\\Tracks_2\n",
      "F:\\Work\\UNI\\ResProj\\TR-Y4-Project\\Research\\SavedSegs\\LabData_NoYeast\\Masks\\tiffPhaseSegs_NoYeast_2\\amoeba\\phase_0_amoeba.tif F:\\Work\\UNI\\ResProj\\TR-Y4-Project\\Research\\SavedSegs\\LabData_NoYeast\\Masks\\tiffPhaseSegs_NoYeast_2\\amoeba\\phase_1_amoeba.tif\n",
      "\n",
      "\n",
      "--------------------\n",
      "TRACKING -  Amoebas \n",
      "--------------------\n",
      "Adding frame 255 / 255F:\\Work\\UNI\\ResProj\\TR-Y4-Project\\Research\\SavedSegs\\LabData_NoYeast\\Masks\\tiffPhaseSegs_NoYeast_3\\amoeba F:\\Work\\UNI\\ResProj\\TR-Y4-Project\\Research\\SavedSegs\\LabData_NoYeast\\Tracker_Output\\Tracks_3\n",
      "F:\\Work\\UNI\\ResProj\\TR-Y4-Project\\Research\\SavedSegs\\LabData_NoYeast\\Masks\\tiffPhaseSegs_NoYeast_3\\amoeba\\phase_0_amoeba.tif F:\\Work\\UNI\\ResProj\\TR-Y4-Project\\Research\\SavedSegs\\LabData_NoYeast\\Masks\\tiffPhaseSegs_NoYeast_3\\amoeba\\phase_1_amoeba.tif\n",
      "\n",
      "\n",
      "--------------------\n",
      "TRACKING -  Amoebas \n",
      "--------------------\n",
      "Adding frame 135 / 135"
     ]
    }
   ],
   "source": [
    "folder_path = Path(r\"F:\\Work\\UNI\\ResProj\\TR-Y4-Project\\Research\\SavedSegs\\LabData_NoYeast\")\n",
    "mask_folder = Path.joinpath(folder_path, 'Masks') # folder with tiffstacks\n",
    "for i, folder in enumerate(mask_folder.iterdir()): # iterates through each tiff stack in folder\n",
    "    if folder.is_dir():\n",
    "    \n",
    "        # inputs\n",
    "        mask_path = Path.joinpath(folder, 'amoeba')\n",
    "       # image_path = r'PHASE'\n",
    "\n",
    "        # output\n",
    "        tracked_path = Path.joinpath(folder_path,'Tracker_Output', f'Tracks_{i}')\n",
    "       # view_tracks_path = r'show tracks'\n",
    "\n",
    "        print(mask_path, tracked_path)\n",
    "\n",
    "        if tracked_path.is_dir():\n",
    "            shutil.rmtree(tracked_path)\n",
    "        tracked_path.mkdir(parents=True)\n",
    "\n",
    "\n",
    "        #utils.remake_dir(Path(tracked_path))\n",
    "        #utils.remake_dir(Path(view_tracks_path))\n",
    "\n",
    "\n",
    "        my_tracker = Tracker('Amoebas', mask_path, tracked_path)\n",
    "        my_tracker.track()"
   ]
  },
  {
   "cell_type": "code",
   "execution_count": null,
   "metadata": {},
   "outputs": [],
   "source": [
    "\n",
    "        utils.remake_dir(Path(tracked_path))\n",
    "        utils.remake_dir(Path(view_tracks_path))\n",
    "\n",
    "\n",
    "        my_tracker = Tracker('Amoebas', mask_path, Path(tracked_path),)\n",
    "        my_tracker.track()\n",
    "    # my_tracker.show_tracks()\n",
    "\n"
   ]
  },
  {
   "cell_type": "code",
   "execution_count": null,
   "metadata": {},
   "outputs": [],
   "source": []
  }
 ],
 "metadata": {
  "colab": {
   "provenance": [
    {
     "file_id": "15D3Osol8Q82cGdzmWEM5HFAEsruMMQDi",
     "timestamp": 1718877745856
    }
   ]
  },
  "kernelspec": {
   "display_name": "Res",
   "language": "python",
   "name": "python3"
  },
  "language_info": {
   "codemirror_mode": {
    "name": "ipython",
    "version": 3
   },
   "file_extension": ".py",
   "mimetype": "text/x-python",
   "name": "python",
   "nbconvert_exporter": "python",
   "pygments_lexer": "ipython3",
   "version": "3.12.7"
  }
 },
 "nbformat": 4,
 "nbformat_minor": 0
}
