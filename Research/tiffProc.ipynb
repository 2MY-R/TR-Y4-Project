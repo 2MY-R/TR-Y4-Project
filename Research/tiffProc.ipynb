{
 "cells": [
  {
   "metadata": {
    "ExecuteTime": {
     "end_time": "2025-02-17T17:36:33.372704Z",
     "start_time": "2025-02-17T17:36:33.369759Z"
    }
   },
   "cell_type": "code",
   "source": "",
   "id": "47b7a6885812f685",
   "outputs": [],
   "execution_count": 5
  },
  {
   "cell_type": "code",
   "id": "initial_id",
   "metadata": {
    "collapsed": true,
    "ExecuteTime": {
     "end_time": "2025-02-17T17:36:33.563783Z",
     "start_time": "2025-02-17T17:36:33.558630Z"
    }
   },
   "source": [
    "import tifffile as tiff\n",
    "import numpy as np\n",
    "import PIL.Image as Image\n",
    "import os\n",
    "import tqdm\n",
    "from matplotlib import image as mpimg\n",
    "import cv2\n"
   ],
   "outputs": [],
   "execution_count": 6
  },
  {
   "metadata": {
    "ExecuteTime": {
     "end_time": "2025-02-17T18:07:20.406981Z",
     "start_time": "2025-02-17T18:07:16.123728Z"
    }
   },
   "cell_type": "code",
   "source": [
    "imSource = r'C:\\Users\\2MY\\Documents\\Uni Work\\Level 4\\TR-Y4-Project\\ImageRepo\\t_1_MMStack_Default_6.ome.tif'\n",
    "images = tiff.imread(imSource)\n",
    "phaesPt1 = [phase for phase in images]\n",
    "print(phaesPt1)\n",
    "#print(image[::4])"
   ],
   "id": "6d8fb0318153dc9b",
   "outputs": [
    {
     "name": "stderr",
     "output_type": "stream",
     "text": [
      "<tifffile.TiffFile 't_1_MMStack_Default_6.ome.tif'> MMStack series is missing files. Returning subset (107, 1, 1, 2) of (1200, 1, 1, 2)\n"
     ]
    },
    {
     "name": "stdout",
     "output_type": "stream",
     "text": [
      "[array([[26, 29, 25, ..., 23, 24, 29],\n",
      "       [28, 30, 23, ..., 24, 25, 27],\n",
      "       [25, 31, 29, ..., 27, 26, 23],\n",
      "       ...,\n",
      "       [23, 24, 25, ..., 26, 23, 26],\n",
      "       [28, 26, 26, ..., 26, 24, 28],\n",
      "       [27, 26, 22, ..., 21, 25, 27]], dtype=uint8), array([[1, 1, 1, ..., 1, 1, 1],\n",
      "       [1, 1, 1, ..., 1, 1, 1],\n",
      "       [1, 1, 1, ..., 1, 1, 1],\n",
      "       ...,\n",
      "       [1, 1, 1, ..., 1, 1, 1],\n",
      "       [1, 1, 1, ..., 1, 1, 1],\n",
      "       [2, 1, 1, ..., 1, 2, 1]], dtype=uint8)]\n"
     ]
    }
   ],
   "execution_count": 25
  },
  {
   "metadata": {},
   "cell_type": "code",
   "outputs": [],
   "execution_count": null,
   "source": [
    "imsize = 768  # 768, 1024\n",
    "image_format = 'png'  # e.g .png, .svg, etc.\n",
    "img_dpi = 1200\n",
    "\n",
    "source3 = r\"PHASE\"\n",
    "\n",
    "#num_images = 63\n",
    "sorted_list_dataset = os.listdir(source3)\n",
    "sorted_list_dataset.sort(key=lambda f: int(''.join(filter(str.isdigit,f ))))\n",
    "\n",
    "print(sorted_list_dataset)\n",
    "\n",
    "Dataset = []\n",
    "for idx in tqdm(sorted_list_dataset):\n",
    "    filepath = os.path.join(source3, idx)\n",
    "    if filepath.endswith(('.', image_format)):\n",
    "        file = mpimg.imread(filepath)\n",
    "        file = cv2.resize(file, (imsize, imsize))\n",
    "        Dataset.append(file)\n",
    "\n",
    "print(Dataset)\n",
    "Dataset = np.array(Dataset)\n",
    "Dataset = ((Dataset - Dataset.min()) / Dataset.max()) * 255\n",
    "Dataset = np.float32(Dataset)\n",
    "\n",
    "print('training set shape', Dataset.shape)\n",
    "\n",
    "print('training set max', Dataset.max())\n",
    "\n",
    "img = Dataset[0]\n",
    "print(img)"
   ],
   "id": "e56e8d7d6cdbfcbc"
  }
 ],
 "metadata": {
  "kernelspec": {
   "display_name": "Python 3",
   "language": "python",
   "name": "python3"
  },
  "language_info": {
   "codemirror_mode": {
    "name": "ipython",
    "version": 2
   },
   "file_extension": ".py",
   "mimetype": "text/x-python",
   "name": "python",
   "nbconvert_exporter": "python",
   "pygments_lexer": "ipython2",
   "version": "2.7.6"
  }
 },
 "nbformat": 4,
 "nbformat_minor": 5
}
