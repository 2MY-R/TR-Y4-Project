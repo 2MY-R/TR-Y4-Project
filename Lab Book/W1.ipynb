{
 "cells": [
  {
   "metadata": {},
   "cell_type": "markdown",
   "source": [
    "# Lab Book - W1\n",
    "\n",
    "## 02/10/2024\n",
    "\n",
    "I met with my supervisor, Ashley, and the rest of my research group. We discussed a possible direction for the project: developing a generic AI algorithm to predict biological events. I will use a mix of amoeba yeast and macrophage-bacteria footage to train my model. We have set up a regular weekly meeting slot to keep track of work. We have an additional meeting planned for next week to lay out a more detailed project plan and begin discussing the risk assessment due for W4. For the rest of this week, I will train and run a Detectron2 segmentation model and a feature extraction algorithm on an amoeba-yeast dataset.\n"
   ],
   "id": "ed17cea0fbe4e2d"
  }
 ],
 "metadata": {
  "kernelspec": {
   "display_name": "Python 3",
   "language": "python",
   "name": "python3"
  },
  "language_info": {
   "codemirror_mode": {
    "name": "ipython",
    "version": 2
   },
   "file_extension": ".py",
   "mimetype": "text/x-python",
   "name": "python",
   "nbconvert_exporter": "python",
   "pygments_lexer": "ipython2",
   "version": "2.7.6"
  }
 },
 "nbformat": 4,
 "nbformat_minor": 5
}
