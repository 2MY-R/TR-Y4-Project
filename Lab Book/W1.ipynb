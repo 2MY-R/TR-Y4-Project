{
 "cells": [
  {
   "metadata": {},
   "cell_type": "markdown",
   "source": [
    "# Lab Book - W1\n",
    "\n",
    "## 02/10/2024\n",
    "\n",
    "I met with my supervisor, Ashley, and the rest of my research group. We discussed a possible direction for the project: developing a generic AI algorithm to predict biological events. I will use a mix of amoeba yeast and macrophage-bacteria footage to train my model. We have set up a regular weekly meeting slot to keep track of work. We have an additional meeting planned for next week to lay out a more detailed project plan and begin discussing the risk assessment due for W4. For the rest of this week, I will train and run a Detectron2 segmentation model and a feature extraction algorithm on an amoeba-yeast dataset.\n"
   ],
   "id": "ed17cea0fbe4e2d"
  },
  {
   "metadata": {
    "ExecuteTime": {
     "end_time": "2024-10-13T20:40:58.516759Z",
     "start_time": "2024-10-13T20:40:58.509509Z"
    }
   },
   "cell_type": "code",
   "source": "print('hello world')",
   "id": "c42d9c00b6a4209",
   "outputs": [
    {
     "name": "stdout",
     "output_type": "stream",
     "text": [
      "hello world\n"
     ]
    }
   ],
   "execution_count": 2
  },
  {
   "metadata": {},
   "cell_type": "code",
   "outputs": [],
   "execution_count": null,
   "source": "",
   "id": "f594d952d1e11961"
  }
 ],
 "metadata": {
  "kernelspec": {
   "display_name": "Python 3",
   "language": "python",
   "name": "python3"
  },
  "language_info": {
   "codemirror_mode": {
    "name": "ipython",
    "version": 2
   },
   "file_extension": ".py",
   "mimetype": "text/x-python",
   "name": "python",
   "nbconvert_exporter": "python",
   "pygments_lexer": "ipython2",
   "version": "2.7.6"
  }
 },
 "nbformat": 4,
 "nbformat_minor": 5
}
