{
 "cells": [
  {
   "metadata": {},
   "cell_type": "markdown",
   "source": [
    "# Lab Book - W2\n",
    "\n",
    "## 07/10/24\n",
    "I met with my project supervisor to help me plan my research project and risk assessment, as shown below. We also discussed the first steps to begin my project, which involves initially setting up my ‘coding platform’, which refers to things such as IDE, libraries, virtual environments, and version control. For my project, I will use Python within DataSpell to run and test my code and git to manage version control. Later this week, I will devise an initial list of Python libraries I will use and be familiar with.\n"
   ],
   "id": "335ca305cd0a2732"
  },
  {
   "metadata": {},
   "cell_type": "markdown",
   "source": "![projectplandraft](https://raw.githubusercontent.com/2MY-R/TR-Y4-Project/refs/heads/main/Lab%20Book/Lab%20Book%20Images/IMG20241007113621.jpg?token=GHSAT0AAAAAACYLG6BA7DR546BJDF66TKJCZYMHHXQ) ",
   "id": "a13823af553e58d7"
  },
  {
   "metadata": {},
   "cell_type": "markdown",
   "source": [
    "## 10/10/24\n",
    "After meeting with Ashley and attending both lectures, I created a rough draft to discuss the risk, assessment, and project plan. However, given my project's heavy computational direction, I am still determining whether I need a risk assessment; I will speak to Mark about this. Furthermore, I have talked to others in my research group regarding the segmentation pipeline, precisely the number and accuracy of labels for Decectron2 detection. The common consensus is roughly 100 labelled objects, e.g., amoeba, yeast, and macrophages; however, not much can be said about the accuracy of these labels given as it is a more complicated concept to quantify. I may experiment with this myself. Finally, a member of my research team has shared their paper as a starting point for references in the bibliography section,\n",
    "so that I can begin my reading this week or early next week. \n"
   ],
   "id": "fe242b4490102d1a"
  },
  {
   "metadata": {},
   "cell_type": "markdown",
   "source": [
    "## 13/10/2024\n",
    "\n",
    "Today I completed setting up my version control system using Git and GitHub. I will now be able to begin coding and tracking the changes I have made along the way to easily access any version of my work but will also allow to more easily log the work I do as evidence for my lab book."
   ],
   "id": "cc4a9efed1d4ab5f"
  }
 ],
 "metadata": {
  "kernelspec": {
   "display_name": "Python 3",
   "language": "python",
   "name": "python3"
  },
  "language_info": {
   "codemirror_mode": {
    "name": "ipython",
    "version": 2
   },
   "file_extension": ".py",
   "mimetype": "text/x-python",
   "name": "python",
   "nbconvert_exporter": "python",
   "pygments_lexer": "ipython2",
   "version": "2.7.6"
  }
 },
 "nbformat": 4,
 "nbformat_minor": 5
}
